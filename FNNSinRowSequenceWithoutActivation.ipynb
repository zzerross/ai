{
  "nbformat": 4,
  "nbformat_minor": 0,
  "metadata": {
    "colab": {
      "name": "FNNSinRowSequence.ipynb",
      "provenance": [],
      "collapsed_sections": [],
      "authorship_tag": "ABX9TyNVTDmrQD21apOXsJLyKJxO",
      "include_colab_link": true
    },
    "kernelspec": {
      "name": "python3",
      "display_name": "Python 3"
    },
    "language_info": {
      "name": "python"
    }
  },
  "cells": [
    {
      "cell_type": "markdown",
      "metadata": {
        "id": "view-in-github",
        "colab_type": "text"
      },
      "source": [
        "<a href=\"https://colab.research.google.com/github/zzerross/ai/blob/main/FNNSinRowSequenceWithoutActivation.ipynb\" target=\"_parent\"><img src=\"https://colab.research.google.com/assets/colab-badge.svg\" alt=\"Open In Colab\"/></a>"
      ]
    },
    {
      "cell_type": "code",
      "execution_count": 1,
      "metadata": {
        "id": "RidmZ1Z8xCoj"
      },
      "outputs": [],
      "source": [
        "import numpy as np\n",
        "import matplotlib.pyplot as plt\n",
        "import matplotlib as mpl\n",
        "from tensorflow import keras\n",
        "from tensorflow.keras import datasets, layers, models, optimizers\n",
        "\n",
        "mpl.rcParams['lines.markersize'] = 0.5\n",
        "mpl.rcParams['lines.linewidth'] = 0.2\n",
        "# mpl.rcParams['lines.linestyle'] = '-.'"
      ]
    },
    {
      "cell_type": "code",
      "source": [
        "# pi/2 * 1 = 90\n",
        "# pi/2 * 2 = 180\n",
        "# pi/2 * 3 = 270\n",
        "# pi/2 * 4 = 360\n",
        "radians = np.linspace(-10, 10, 100)\n",
        "data = np.sin(radians)\n",
        "plt.scatter(radians, data)"
      ],
      "metadata": {
        "colab": {
          "base_uri": "https://localhost:8080/",
          "height": 282
        },
        "id": "muI3MCT2xZBy",
        "outputId": "7f18314b-48dc-4d0a-83df-0a369240e1c7"
      },
      "execution_count": 2,
      "outputs": [
        {
          "output_type": "execute_result",
          "data": {
            "text/plain": [
              "<matplotlib.collections.PathCollection at 0x7f36e3c67b90>"
            ]
          },
          "metadata": {},
          "execution_count": 2
        },
        {
          "output_type": "display_data",
          "data": {
            "text/plain": [
              "<Figure size 432x288 with 1 Axes>"
            ],
            "image/png": "[encoded data removed]"
          },
          "metadata": {
            "needs_background": "light"
          }
        }
      ]
    },
    {
      "cell_type": "code",
      "source": [
        "def get_input(start, end, num, timesteps):\n",
        "  radians = np.linspace(start, end, num + timesteps)\n",
        "  sin = np.sin(radians) + np.random.random(num + timesteps)\n",
        "  return radians, sin\n",
        "\n",
        "hidden_units = 32\n",
        "timesteps = 20\n",
        "input_dim = 1\n",
        "output_dim = 1\n",
        "\n",
        "data_n = 1000\n",
        "data_x, data_y = get_input(-30, 30, data_n, timesteps)\n",
        "\n",
        "train_n = int(data_n * 0.7)\n",
        "test_n = int(data_n * 0.3)\n",
        "train_x, train_y = data_x[:train_n], data_y[:train_n]\n",
        "test_x, test_y = data_x[train_n:], data_y[train_n:]\n",
        "\n",
        "plt.scatter(train_x, train_y)\n",
        "plt.scatter(test_x, test_y)"
      ],
      "metadata": {
        "colab": {
          "base_uri": "https://localhost:8080/",
          "height": 282
        },
        "id": "L1j1AUk1zhhx",
        "outputId": "7c809367-4330-4d52-94e7-1bee23b3b85e"
      },
      "execution_count": 3,
      "outputs": [
        {
          "output_type": "execute_result",
          "data": {
            "text/plain": [
              "<matplotlib.collections.PathCollection at 0x7f36e36f7850>"
            ]
          },
          "metadata": {},
          "execution_count": 3
        },
        {
          "output_type": "display_data",
          "data": {
            "text/plain": [
              "<Figure size 432x288 with 1 Axes>"
            ],
            "image/png": "[encoded data removed]"
          },
          "metadata": {
            "needs_background": "light"
          }
        }
      ]
    },
    {
      "cell_type": "code",
      "source": [
        "def make_sequence(input, timesteps):\n",
        "  x = list(map(lambda x: input[x:x+timesteps], range(len(input) - timesteps)))\n",
        "  y = input[timesteps:]\n",
        "  # return np.reshape(x, (-1, timesteps, input_dim)), np.reshape(y, (-1, input_dim))\n",
        "  return np.array(x), np.array(y)\n",
        "\n",
        "def test_sequence(n=3):\n",
        "  print(make_sequence([0, 1, 2, 3, 4, 5, 6], n))\n",
        "test_sequence()\n",
        "\n",
        "train_seq_x, train_seq_y = make_sequence(train_y, timesteps)\n",
        "test_seq_x, test_seq_y = make_sequence(test_y, timesteps)\n",
        "\n",
        "print(train_seq_x.shape, train_seq_y.shape)"
      ],
      "metadata": {
        "colab": {
          "base_uri": "https://localhost:8080/"
        },
        "outputId": "106b6672-5f95-4abb-9ce0-4e974d9e2f29",
        "id": "ZhHiX-1Q3nOc"
      },
      "execution_count": 4,
      "outputs": [
        {
          "output_type": "stream",
          "name": "stdout",
          "text": [
            "(array([[0, 1, 2],\n",
            "       [1, 2, 3],\n",
            "       [2, 3, 4],\n",
            "       [3, 4, 5]]), array([3, 4, 5, 6]))\n",
            "(680, 20) (680,)\n"
          ]
        }
      ]
    },
    {
      "cell_type": "code",
      "source": [
        "def make_fnn_model():\n",
        "  model = models.Sequential()\n",
        "  model.add(layers.Input(shape=(timesteps,)))\n",
        "  model.add(layers.Dense(timesteps * 8))\n",
        "  model.add(layers.Dense(timesteps * 4))\n",
        "  model.add(layers.Dense(timesteps * 2))    \n",
        "  model.add(layers.Dense(output_dim))\n",
        "  model.compile(loss='mse')\n",
        "  model.summary()\n",
        "  return model\n",
        "\n",
        "def make_model():\n",
        "  model = models.Sequential()\n",
        "  model.add(layers.SimpleRNN(hidden_units, input_shape=(timesteps, input_dim)))\n",
        "  model.add(layers.Dense(output_dim))\n",
        "  model.compile(loss='mse')\n",
        "  model.summary()\n",
        "  return model\n",
        " \n",
        "model = make_fnn_model()"
      ],
      "metadata": {
        "colab": {
          "base_uri": "https://localhost:8080/"
        },
        "id": "G9Nk3JxZ4QNn",
        "outputId": "45a5e45e-b226-4c95-a9c0-f10dcf122115"
      },
      "execution_count": 9,
      "outputs": [
        {
          "output_type": "stream",
          "name": "stdout",
          "text": [
            "Model: \"sequential_1\"\n",
            "_________________________________________________________________\n",
            " Layer (type)                Output Shape              Param #   \n",
            "=================================================================\n",
            " dense_4 (Dense)             (None, 160)               3360      \n",
            "                                                                 \n",
            " dense_5 (Dense)             (None, 80)                12880     \n",
            "                                                                 \n",
            " dense_6 (Dense)             (None, 40)                3240      \n",
            "                                                                 \n",
            " dense_7 (Dense)             (None, 1)                 41        \n",
            "                                                                 \n",
            "=================================================================\n",
            "Total params: 19,521\n",
            "Trainable params: 19,521\n",
            "Non-trainable params: 0\n",
            "_________________________________________________________________\n"
          ]
        }
      ]
    },
    {
      "cell_type": "code",
      "source": [
        "history = model.fit(train_seq_x, train_seq_y, epochs=100, verbose=0)\n",
        "plt.plot(history.history['loss'])\n"
      ],
      "metadata": {
        "id": "6Qd4hyO55eE0",
        "colab": {
          "base_uri": "https://localhost:8080/",
          "height": 282
        },
        "outputId": "021b8732-d9a8-4069-f9f2-a0166a79e4ef"
      },
      "execution_count": 10,
      "outputs": [
        {
          "output_type": "execute_result",
          "data": {
            "text/plain": [
              "[<matplotlib.lines.Line2D at 0x7f36df5830d0>]"
            ]
          },
          "metadata": {},
          "execution_count": 10
        },
        {
          "output_type": "display_data",
          "data": {
            "text/plain": [
              "<Figure size 432x288 with 1 Axes>"
            ],
            "image/png": "[encoded data removed]"
          },
          "metadata": {
            "needs_background": "light"
          }
        }
      ]
    },
    {
      "cell_type": "code",
      "source": [
        "test_loss = model.evaluate(test_seq_x, test_seq_y)"
      ],
      "metadata": {
        "colab": {
          "base_uri": "https://localhost:8080/"
        },
        "id": "y7Uz5_gwAkZq",
        "outputId": "45416130-fae4-47c6-adf4-636d2ec81491"
      },
      "execution_count": 11,
      "outputs": [
        {
          "output_type": "stream",
          "name": "stdout",
          "text": [
            "10/10 [==============================] - 0s 2ms/step - loss: 0.1173\n"
          ]
        }
      ]
    },
    {
      "cell_type": "code",
      "source": [
        "predicted_y = model.predict(test_seq_x)\n",
        "\n",
        "plt.scatter(np.arange(len(train_y)), train_y)\n",
        "plt.scatter(np.arange(len(train_y), len(train_y) + len(predicted_y)), predicted_y)"
      ],
      "metadata": {
        "colab": {
          "base_uri": "https://localhost:8080/",
          "height": 282
        },
        "id": "658Bd2_n8x2e",
        "outputId": "d3d23be2-4ef9-4b93-b249-2bafc0affea5"
      },
      "execution_count": 12,
      "outputs": [
        {
          "output_type": "execute_result",
          "data": {
            "text/plain": [
              "<matplotlib.collections.PathCollection at 0x7f36df474910>"
            ]
          },
          "metadata": {},
          "execution_count": 12
        },
        {
          "output_type": "display_data",
          "data": {
            "text/plain": [
              "<Figure size 432x288 with 1 Axes>"
            ],
            "image/png": "[encoded data removed]"
          },
          "metadata": {
            "needs_background": "light"
          }
        }
      ]
    }
  ]
}