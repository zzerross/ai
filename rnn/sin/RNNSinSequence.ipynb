{
  "nbformat": 4,
  "nbformat_minor": 0,
  "metadata": {
    "colab": {
      "name": "RNNSinSequence.ipynb",
      "provenance": [],
      "collapsed_sections": [],
      "authorship_tag": "ABX9TyM6aHqHeXL6T+4E7UBB+0Vl",
      "include_colab_link": true
    },
    "kernelspec": {
      "name": "python3",
      "display_name": "Python 3"
    },
    "language_info": {
      "name": "python"
    }
  },
  "cells": [
    {
      "cell_type": "markdown",
      "metadata": {
        "id": "view-in-github",
        "colab_type": "text"
      },
      "source": [
        "<a href=\"https://colab.research.google.com/github/zzerross/ai/blob/main/rnn/sin/RNNSinSequence.ipynb\" target=\"_parent\"><img src=\"https://colab.research.google.com/assets/colab-badge.svg\" alt=\"Open In Colab\"/></a>"
      ]
    },
    {
      "cell_type": "code",
      "execution_count": 1,
      "metadata": {
        "id": "RidmZ1Z8xCoj"
      },
      "outputs": [],
      "source": [
        "import numpy as np\n",
        "import matplotlib.pyplot as plt\n",
        "import matplotlib as mpl\n",
        "from tensorflow import keras\n",
        "from tensorflow.keras import datasets, layers, models, optimizers\n",
        "\n",
        "mpl.rcParams['lines.markersize'] = 0.5\n",
        "mpl.rcParams['lines.linewidth'] = 0.2\n",
        "# mpl.rcParams['lines.linestyle'] = '-.'"
      ]
    },
    {
      "cell_type": "code",
      "source": [
        "# pi/2 * 1 = 90\n",
        "# pi/2 * 2 = 180\n",
        "# pi/2 * 3 = 270\n",
        "# pi/2 * 4 = 360\n",
        "radians = np.linspace(-10, 10, 100)\n",
        "data = np.sin(radians)\n",
        "plt.scatter(radians, data)"
      ],
      "metadata": {
        "colab": {
          "base_uri": "https://localhost:8080/",
          "height": 282
        },
        "id": "muI3MCT2xZBy",
        "outputId": "c46b7c3d-4218-4785-b664-533551d57fbc"
      },
      "execution_count": 2,
      "outputs": [
        {
          "output_type": "execute_result",
          "data": {
            "text/plain": [
              "<matplotlib.collections.PathCollection at 0x7f7eba80c510>"
            ]
          },
          "metadata": {},
          "execution_count": 2
        },
        {
          "output_type": "display_data",
          "data": {
            "text/plain": [
              "<Figure size 432x288 with 1 Axes>"
            ],
            "image/png": "[encoded data removed]"
          },
          "metadata": {
            "needs_background": "light"
          }
        }
      ]
    },
    {
      "cell_type": "code",
      "source": [
        "def get_input(start, end, num, timesteps):\n",
        "  radians = np.linspace(start, end, num + timesteps)\n",
        "  sin = np.sin(radians) + np.random.random(num + timesteps)\n",
        "  return radians, sin\n",
        "\n",
        "hidden_units = 32\n",
        "timesteps = 20\n",
        "input_dim = 1\n",
        "output_dim = 1\n",
        "\n",
        "data_n = 1000\n",
        "data_x, data_y = get_input(-30, 30, data_n, timesteps)\n",
        "\n",
        "train_n = int(data_n * 0.7)\n",
        "test_n = int(data_n * 0.3)\n",
        "train_x, train_y = data_x[:train_n], data_y[:train_n]\n",
        "test_x, test_y = data_x[train_n:], data_y[train_n:]\n",
        "\n",
        "plt.scatter(train_x, train_y)\n",
        "plt.scatter(test_x, test_y)"
      ],
      "metadata": {
        "colab": {
          "base_uri": "https://localhost:8080/",
          "height": 282
        },
        "id": "L1j1AUk1zhhx",
        "outputId": "1de8c2fb-11a8-4449-a4ed-2601e4d7acbe"
      },
      "execution_count": 85,
      "outputs": [
        {
          "output_type": "execute_result",
          "data": {
            "text/plain": [
              "<matplotlib.collections.PathCollection at 0x7f7eafbcfed0>"
            ]
          },
          "metadata": {},
          "execution_count": 85
        },
        {
          "output_type": "display_data",
          "data": {
            "text/plain": [
              "<Figure size 432x288 with 1 Axes>"
            ],
            "image/png": "[encoded data removed]"
          },
          "metadata": {
            "needs_background": "light"
          }
        }
      ]
    },
    {
      "cell_type": "code",
      "source": [
        "def make_sequence(input, timesteps):\n",
        "  x = list(map(lambda x: input[x:x+timesteps], range(len(input) - timesteps)))\n",
        "  y = input[timesteps:]\n",
        "  return np.reshape(x, (-1, timesteps, input_dim)), np.reshape(y, (-1, input_dim))\n",
        "\n",
        "def test_sequence(n=3):\n",
        "  print(make_sequence([0, 1, 2, 3, 4, 5, 6], n))\n",
        "test_sequence()\n",
        "\n",
        "train_seq_x, train_seq_y = make_sequence(train_y, timesteps)\n",
        "test_seq_x, test_seq_y = make_sequence(test_y, timesteps)"
      ],
      "metadata": {
        "colab": {
          "base_uri": "https://localhost:8080/"
        },
        "outputId": "2b5aafde-cecd-4a96-d5d5-b1788088cd9d",
        "id": "ZhHiX-1Q3nOc"
      },
      "execution_count": 86,
      "outputs": [
        {
          "output_type": "stream",
          "name": "stdout",
          "text": [
            "(array([[[0],\n",
            "        [1],\n",
            "        [2]],\n",
            "\n",
            "       [[1],\n",
            "        [2],\n",
            "        [3]],\n",
            "\n",
            "       [[2],\n",
            "        [3],\n",
            "        [4]],\n",
            "\n",
            "       [[3],\n",
            "        [4],\n",
            "        [5]]]), array([[3],\n",
            "       [4],\n",
            "       [5],\n",
            "       [6]]))\n"
          ]
        }
      ]
    },
    {
      "cell_type": "code",
      "source": [
        "def make_model():\n",
        "  model = models.Sequential()\n",
        "  model.add(layers.LSTM(hidden_units, input_shape=(timesteps, input_dim)))\n",
        "  model.add(layers.Dense(output_dim))\n",
        "  model.compile(loss='mse')\n",
        "  model.summary()\n",
        "  return model\n",
        "model = make_model()"
      ],
      "metadata": {
        "colab": {
          "base_uri": "https://localhost:8080/"
        },
        "id": "G9Nk3JxZ4QNn",
        "outputId": "8c80cd26-c463-4fa7-d920-d1011aff3353"
      },
      "execution_count": 87,
      "outputs": [
        {
          "output_type": "stream",
          "name": "stdout",
          "text": [
            "Model: \"sequential_17\"\n",
            "_________________________________________________________________\n",
            " Layer (type)                Output Shape              Param #   \n",
            "=================================================================\n",
            " lstm_17 (LSTM)              (None, 32)                4352      \n",
            "                                                                 \n",
            " dense_15 (Dense)            (None, 1)                 33        \n",
            "                                                                 \n",
            "=================================================================\n",
            "Total params: 4,385\n",
            "Trainable params: 4,385\n",
            "Non-trainable params: 0\n",
            "_________________________________________________________________\n"
          ]
        }
      ]
    },
    {
      "cell_type": "code",
      "source": [
        "history = model.fit(train_seq_x, train_seq_y)\n",
        "plt.plot(history.history['loss'])\n",
        "plt.show()"
      ],
      "metadata": {
        "id": "6Qd4hyO55eE0",
        "colab": {
          "base_uri": "https://localhost:8080/",
          "height": 282
        },
        "outputId": "230c2f5e-33af-4fea-b30e-5476f7e3696d"
      },
      "execution_count": 88,
      "outputs": [
        {
          "output_type": "stream",
          "name": "stdout",
          "text": [
            "22/22 [==============================] - 3s 10ms/step - loss: 0.2403\n"
          ]
        },
        {
          "output_type": "display_data",
          "data": {
            "text/plain": [
              "<Figure size 432x288 with 1 Axes>"
            ],
            "image/png": "[encoded data removed]"
          },
          "metadata": {
            "needs_background": "light"
          }
        }
      ]
    },
    {
      "cell_type": "code",
      "source": [
        "test_loss = model.evaluate(test_seq_x, test_seq_y)"
      ],
      "metadata": {
        "colab": {
          "base_uri": "https://localhost:8080/"
        },
        "id": "y7Uz5_gwAkZq",
        "outputId": "3fdf1e4a-739a-47a3-9468-bcfa803bc99f"
      },
      "execution_count": 89,
      "outputs": [
        {
          "output_type": "stream",
          "name": "stdout",
          "text": [
            "10/10 [==============================] - 1s 4ms/step - loss: 0.1638\n"
          ]
        }
      ]
    },
    {
      "cell_type": "code",
      "source": [
        "predicted_y = model.predict(test_seq_x)\n",
        "\n",
        "print(test_seq_x.shape, test_x.shape, predicted_y.shape)\n",
        "# plt.scatter(train_x, train_y)\n",
        "# plt.scatter(test_x, test_y)\n",
        "# plt.scatter(test_x[-test_n:], predicted_y)\n",
        "\n",
        "plt.scatter(np.arange(len(train_y)), train_y)\n",
        "plt.scatter(np.arange(len(train_y), len(train_y) + len(predicted_y)), predicted_y)"
      ],
      "metadata": {
        "colab": {
          "base_uri": "https://localhost:8080/",
          "height": 300
        },
        "id": "658Bd2_n8x2e",
        "outputId": "2e7dea14-ab7b-4fb2-f92c-2a3fc32aac3e"
      },
      "execution_count": 90,
      "outputs": [
        {
          "output_type": "stream",
          "name": "stdout",
          "text": [
            "(300, 20, 1) (320,) (300, 1)\n"
          ]
        },
        {
          "output_type": "execute_result",
          "data": {
            "text/plain": [
              "<matplotlib.collections.PathCollection at 0x7f7eb1617e50>"
            ]
          },
          "metadata": {},
          "execution_count": 90
        },
        {
          "output_type": "display_data",
          "data": {
            "text/plain": [
              "<Figure size 432x288 with 1 Axes>"
            ],
            "image/png": "[encoded data removed]"
          },
          "metadata": {
            "needs_background": "light"
          }
        }
      ]
    }
  ]
}