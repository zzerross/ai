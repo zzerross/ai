{
  "nbformat": 4,
  "nbformat_minor": 0,
  "metadata": {
    "colab": {
      "name": "FNNSinSequence.ipynb",
      "provenance": [],
      "collapsed_sections": [],
      "authorship_tag": "ABX9TyOJ6j+mfmzEeTUOGQvhX6bu",
      "include_colab_link": true
    },
    "kernelspec": {
      "name": "python3",
      "display_name": "Python 3"
    },
    "language_info": {
      "name": "python"
    }
  },
  "cells": [
    {
      "cell_type": "markdown",
      "metadata": {
        "id": "view-in-github",
        "colab_type": "text"
      },
      "source": [
        "<a href=\"https://colab.research.google.com/github/zzerross/ai/blob/main/rnn/sin/FNNSinSequence.ipynb\" target=\"_parent\"><img src=\"https://colab.research.google.com/assets/colab-badge.svg\" alt=\"Open In Colab\"/></a>"
      ]
    },
    {
      "cell_type": "code",
      "execution_count": 1,
      "metadata": {
        "id": "RidmZ1Z8xCoj"
      },
      "outputs": [],
      "source": [
        "import numpy as np\n",
        "import matplotlib.pyplot as plt\n",
        "import matplotlib as mpl\n",
        "from tensorflow import keras\n",
        "from tensorflow.keras import datasets, layers, models, optimizers\n",
        "\n",
        "mpl.rcParams['lines.markersize'] = 0.5\n",
        "mpl.rcParams['lines.linewidth'] = 0.2\n",
        "# mpl.rcParams['lines.linestyle'] = '-.'"
      ]
    },
    {
      "cell_type": "code",
      "source": [
        "# pi/2 * 1 = 90\n",
        "# pi/2 * 2 = 180\n",
        "# pi/2 * 3 = 270\n",
        "# pi/2 * 4 = 360\n",
        "radians = np.linspace(-10, 10, 100)\n",
        "data = np.sin(radians)\n",
        "plt.scatter(radians, data)"
      ],
      "metadata": {
        "colab": {
          "base_uri": "https://localhost:8080/",
          "height": 282
        },
        "id": "muI3MCT2xZBy",
        "outputId": "baf0de4a-f61e-480c-9310-94c0f044a260"
      },
      "execution_count": 2,
      "outputs": [
        {
          "output_type": "execute_result",
          "data": {
            "text/plain": [
              "<matplotlib.collections.PathCollection at 0x7f2f1e411190>"
            ]
          },
          "metadata": {},
          "execution_count": 2
        },
        {
          "output_type": "display_data",
          "data": {
            "text/plain": [
              "<Figure size 432x288 with 1 Axes>"
            ],
            "image/png": "[encoded data removed]"
          },
          "metadata": {
            "needs_background": "light"
          }
        }
      ]
    },
    {
      "cell_type": "code",
      "source": [
        "def get_input(start, end, num, timesteps):\n",
        "  radians = np.linspace(start, end, num + timesteps)\n",
        "  sin = np.sin(radians) + np.random.random(num + timesteps)\n",
        "  return radians, sin\n",
        "\n",
        "hidden_units = 32\n",
        "timesteps = 20\n",
        "input_dim = 1\n",
        "output_dim = 1\n",
        "\n",
        "data_n = 1000\n",
        "data_x, data_y = get_input(-30, 30, data_n, timesteps)\n",
        "\n",
        "train_n = int(data_n * 0.7)\n",
        "test_n = int(data_n * 0.3)\n",
        "train_x, train_y = data_x[:train_n], data_y[:train_n]\n",
        "test_x, test_y = data_x[train_n:], data_y[train_n:]\n",
        "\n",
        "plt.scatter(train_x, train_y)\n",
        "plt.scatter(test_x, test_y)"
      ],
      "metadata": {
        "colab": {
          "base_uri": "https://localhost:8080/",
          "height": 282
        },
        "id": "L1j1AUk1zhhx",
        "outputId": "2711b545-24b9-49d6-a9ac-a0f22a71df55"
      },
      "execution_count": 3,
      "outputs": [
        {
          "output_type": "execute_result",
          "data": {
            "text/plain": [
              "<matplotlib.collections.PathCollection at 0x7f2f1df09b10>"
            ]
          },
          "metadata": {},
          "execution_count": 3
        },
        {
          "output_type": "display_data",
          "data": {
            "text/plain": [
              "<Figure size 432x288 with 1 Axes>"
            ],
            "image/png": "[encoded data removed]"
          },
          "metadata": {
            "needs_background": "light"
          }
        }
      ]
    },
    {
      "cell_type": "code",
      "source": [
        "def make_sequence(input_x, input_y, timesteps):\n",
        "  x = list(map(lambda x: input_x[x:x+timesteps], range(len(input_x) - timesteps)))\n",
        "  y = input_y[timesteps-1:-1]\n",
        "  return np.reshape(x, (-1, timesteps, input_dim)), np.reshape(y, (-1, input_dim))\n",
        "\n",
        "def test_sequence(n=3):\n",
        "  print(make_sequence([0, 1, 2, 3, 4, 5, 6], [10, 11, 12, 13, 14, 15, 16], n))\n",
        "test_sequence()\n",
        "\n",
        "train_seq_x, train_seq_y = make_sequence(train_x, train_y, timesteps)\n",
        "test_seq_x, test_seq_y = make_sequence(test_x, test_y, timesteps)\n",
        "\n",
        "print(test_seq_x.shape)"
      ],
      "metadata": {
        "colab": {
          "base_uri": "https://localhost:8080/"
        },
        "outputId": "f88aa8e7-fe96-447e-e100-6bf00b93fa1a",
        "id": "ZhHiX-1Q3nOc"
      },
      "execution_count": 4,
      "outputs": [
        {
          "output_type": "stream",
          "name": "stdout",
          "text": [
            "(array([[[0],\n",
            "        [1],\n",
            "        [2]],\n",
            "\n",
            "       [[1],\n",
            "        [2],\n",
            "        [3]],\n",
            "\n",
            "       [[2],\n",
            "        [3],\n",
            "        [4]],\n",
            "\n",
            "       [[3],\n",
            "        [4],\n",
            "        [5]]]), array([[12],\n",
            "       [13],\n",
            "       [14],\n",
            "       [15]]))\n",
            "(300, 20, 1)\n"
          ]
        }
      ]
    },
    {
      "cell_type": "code",
      "source": [
        "def make_fnn_model():\n",
        "  model = models.Sequential()\n",
        "  model.add(layers.Input(shape=(timesteps,)))\n",
        "  model.add(layers.Dense(timesteps * 8, activation='tanh'))\n",
        "  model.add(layers.Dense(timesteps * 4, activation='tanh'))\n",
        "  model.add(layers.Dense(timesteps * 2, activation='tanh'))    \n",
        "  model.add(layers.Dense(output_dim))\n",
        "  model.compile(loss='mse')\n",
        "  model.summary()\n",
        "  return model\n",
        "\n",
        "def make_model():\n",
        "  model = models.Sequential()\n",
        "  model.add(layers.SimpleRNN(hidden_units, input_shape=(timesteps, input_dim)))\n",
        "  model.add(layers.Dense(output_dim))\n",
        "  model.compile(loss='mse')\n",
        "  model.summary()\n",
        "  return model\n",
        " \n",
        "model = make_fnn_model()"
      ],
      "metadata": {
        "colab": {
          "base_uri": "https://localhost:8080/"
        },
        "id": "G9Nk3JxZ4QNn",
        "outputId": "81f869f8-013e-4205-ba75-a6282425aa52"
      },
      "execution_count": 5,
      "outputs": [
        {
          "output_type": "stream",
          "name": "stdout",
          "text": [
            "Model: \"sequential\"\n",
            "_________________________________________________________________\n",
            " Layer (type)                Output Shape              Param #   \n",
            "=================================================================\n",
            " dense (Dense)               (None, 160)               3360      \n",
            "                                                                 \n",
            " dense_1 (Dense)             (None, 80)                12880     \n",
            "                                                                 \n",
            " dense_2 (Dense)             (None, 40)                3240      \n",
            "                                                                 \n",
            " dense_3 (Dense)             (None, 1)                 41        \n",
            "                                                                 \n",
            "=================================================================\n",
            "Total params: 19,521\n",
            "Trainable params: 19,521\n",
            "Non-trainable params: 0\n",
            "_________________________________________________________________\n"
          ]
        }
      ]
    },
    {
      "cell_type": "code",
      "source": [
        "history = model.fit(train_seq_x, train_seq_y, epochs=100, verbose=0)\n",
        "plt.plot(history.history['loss'])\n"
      ],
      "metadata": {
        "id": "6Qd4hyO55eE0",
        "colab": {
          "base_uri": "https://localhost:8080/",
          "height": 282
        },
        "outputId": "5afbff5c-6c32-4434-a721-63b4fd556ea2"
      },
      "execution_count": 6,
      "outputs": [
        {
          "output_type": "execute_result",
          "data": {
            "text/plain": [
              "[<matplotlib.lines.Line2D at 0x7f2f19fe3f90>]"
            ]
          },
          "metadata": {},
          "execution_count": 6
        },
        {
          "output_type": "display_data",
          "data": {
            "text/plain": [
              "<Figure size 432x288 with 1 Axes>"
            ],
            "image/png": "[encoded data removed]"
          },
          "metadata": {
            "needs_background": "light"
          }
        }
      ]
    },
    {
      "cell_type": "code",
      "source": [
        "test_loss = model.evaluate(test_seq_x, test_seq_y)"
      ],
      "metadata": {
        "colab": {
          "base_uri": "https://localhost:8080/"
        },
        "id": "y7Uz5_gwAkZq",
        "outputId": "8631843c-c25e-4723-99a2-fa2617cb4091"
      },
      "execution_count": 7,
      "outputs": [
        {
          "output_type": "stream",
          "name": "stdout",
          "text": [
            "10/10 [==============================] - 0s 2ms/step - loss: 1.2139\n"
          ]
        }
      ]
    },
    {
      "cell_type": "code",
      "source": [
        "predicted_y = model.predict(test_seq_x)\n",
        "\n",
        "plt.scatter(np.arange(len(train_y)), train_y)\n",
        "plt.scatter(np.arange(len(train_y), len(train_y) + len(predicted_y)), predicted_y)"
      ],
      "metadata": {
        "colab": {
          "base_uri": "https://localhost:8080/",
          "height": 282
        },
        "id": "658Bd2_n8x2e",
        "outputId": "5b476ac8-0dcf-4187-fb82-6a6f52808b98"
      },
      "execution_count": 8,
      "outputs": [
        {
          "output_type": "execute_result",
          "data": {
            "text/plain": [
              "<matplotlib.collections.PathCollection at 0x7f2f19fdacd0>"
            ]
          },
          "metadata": {},
          "execution_count": 8
        },
        {
          "output_type": "display_data",
          "data": {
            "text/plain": [
              "<Figure size 432x288 with 1 Axes>"
            ],
            "image/png": "[encoded data removed]"
          },
          "metadata": {
            "needs_background": "light"
          }
        }
      ]
    }
  ]
}