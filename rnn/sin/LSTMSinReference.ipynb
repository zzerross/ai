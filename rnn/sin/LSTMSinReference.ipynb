{
  "nbformat": 4,
  "nbformat_minor": 0,
  "metadata": {
    "colab": {
      "name": "LSTMSinReference.ipynb",
      "provenance": [],
      "collapsed_sections": [],
      "authorship_tag": "ABX9TyONAo15+xTMeuA/Wiq0iQgr",
      "include_colab_link": true
    },
    "kernelspec": {
      "name": "python3",
      "display_name": "Python 3"
    },
    "language_info": {
      "name": "python"
    }
  },
  "cells": [
    {
      "cell_type": "markdown",
      "metadata": {
        "id": "view-in-github",
        "colab_type": "text"
      },
      "source": [
        "<a href=\"https://colab.research.google.com/github/zzerross/ai/blob/main/rnn/sin/LSTMSinReference.ipynb\" target=\"_parent\"><img src=\"https://colab.research.google.com/assets/colab-badge.svg\" alt=\"Open In Colab\"/></a>"
      ]
    },
    {
      "cell_type": "code",
      "execution_count": 1,
      "metadata": {
        "id": "UMivGR6uS1IR"
      },
      "outputs": [],
      "source": [
        "# Refer https://m.blog.naver.com/chunjein/222131850058\n",
        "from tensorflow.keras import datasets, layers, models, optimizers\n",
        "import numpy as np\n",
        "import matplotlib as mpl\n",
        "import matplotlib.pyplot as plt\n",
        "\n",
        "mpl.rcParams['lines.markersize'] = 0.5\n",
        "mpl.rcParams['lines.linewidth'] = 0.2"
      ]
    },
    {
      "cell_type": "code",
      "source": [
        "def get_input(start, end, num, timesteps):\n",
        "  radians = np.linspace(start, end, num + timesteps)\n",
        "  sin = np.sin(radians) + np.random.random(num + timesteps)\n",
        "  return radians, sin\n",
        "\n",
        "input_dim = 1\n",
        "output_dim = 1\n",
        "timesteps = 20\n",
        "hidden_units = 50\n",
        "\n",
        "data_n = 1000\n",
        "data_x, data_y = get_input(-10, 10, data_n, timesteps)\n",
        "\n",
        "train_n = int(data_n * 0.8)\n",
        "test_n = int(data_n * 0.2)\n",
        "\n",
        "train_x, train_y = data_x[:train_n], data_y[:train_n]\n",
        "test_x, test_y = data_x[train_n:], data_y[train_n:]\n",
        "\n",
        "plt.scatter(train_x, train_y)\n",
        "plt.scatter(test_x, test_y)"
      ],
      "metadata": {
        "colab": {
          "base_uri": "https://localhost:8080/",
          "height": 282
        },
        "id": "Fkzh5EmiJ--_",
        "outputId": "9628d1b8-0e5a-49c6-bf68-ac92db5b6a2c"
      },
      "execution_count": 2,
      "outputs": [
        {
          "output_type": "execute_result",
          "data": {
            "text/plain": [
              "<matplotlib.collections.PathCollection at 0x7fa8b72f2d50>"
            ]
          },
          "metadata": {},
          "execution_count": 2
        },
        {
          "output_type": "display_data",
          "data": {
            "text/plain": [
              "<Figure size 432x288 with 1 Axes>"
            ],
            "image/png": "[encoded data removed]"
          },
          "metadata": {
            "needs_background": "light"
          }
        }
      ]
    },
    {
      "cell_type": "code",
      "source": [
        "# 1차원 배열의 시계열 데이터로 학습용 배치 파일을 만든다. 입력값 = 1개, 출력값 = 1개\n",
        "# return : xBatch - RNN 입력\n",
        "#          yBatch - RNN 출력\n",
        "#\n",
        "# step = 3 인 경우의 예시\n",
        "# xData = (1, 2, 3, 4, 5, 6, 7, 8, 9, 10)\n",
        "# \n",
        "# xBatch, yBatch는 3차원 텐서로 만든다. (-1, step=3, 1)\n",
        "# xBatch = [[1]] [[2]] [[3]] [[4]] [[5]] [[6]] [[7]] --> 7 x 3 x 1\n",
        "#          [[2]] [[3]] [[4]] [[5]] [[6]] [[7]] [[8]]\n",
        "#          [[3]] [[4]] [[5]] [[6]] [[7]] [[8]] [[9]]\n",
        "#\n",
        "# yBatch =  [4]   [5]   [6]   [7]   [8]   [9]   [10] --> 7 x 1\n",
        "#\n",
        "# ex : xBatch[0] = [[3],[4],[5]],   yBatch[0] = [6]\n",
        "#      3-step 짜리 LSTM에 3,4,5가 입력되면 6이 출력되도록 학습한다.\n",
        "def make_sequence(input, timesteps):\n",
        "  x = list(map(lambda x: input[x:x+timesteps], range(len(input) - timesteps)))\n",
        "  y = input[timesteps:]\n",
        "  return np.reshape(x, (-1, timesteps, input_dim)), np.reshape(y, (-1, input_dim))\n",
        "\n",
        "def test_sequence(n=3):\n",
        "  print(make_sequence([0, 1, 2, 3, 4, 5, 6], n))\n",
        "test_sequence()\n",
        "\n",
        "train_seq_x, train_seq_y = make_sequence(train_y, timesteps)\n",
        "test_seq_x, test_seq_y = make_sequence(test_y, timesteps)"
      ],
      "metadata": {
        "colab": {
          "base_uri": "https://localhost:8080/"
        },
        "id": "10Nqbjdbiq5L",
        "outputId": "703aed91-0297-413f-9304-9552b32f4a5f"
      },
      "execution_count": 3,
      "outputs": [
        {
          "output_type": "stream",
          "name": "stdout",
          "text": [
            "(array([[[0],\n",
            "        [1],\n",
            "        [2]],\n",
            "\n",
            "       [[1],\n",
            "        [2],\n",
            "        [3]],\n",
            "\n",
            "       [[2],\n",
            "        [3],\n",
            "        [4]],\n",
            "\n",
            "       [[3],\n",
            "        [4],\n",
            "        [5]]]), array([[3],\n",
            "       [4],\n",
            "       [5],\n",
            "       [6]]))\n"
          ]
        }
      ]
    },
    {
      "cell_type": "code",
      "source": [
        "def make_reference_model():\n",
        "  xInput = layers.Input(batch_shape=(None, timesteps, 1))\n",
        "  xLstm = layers.LSTM(hidden_units)(xInput)\n",
        "  xOutput = layers.Dense(output_dim)(xLstm)\n",
        "  model = models.Model(xInput, xOutput)\n",
        "  model.compile(loss='mse', optimizer=optimizers.Adam(learning_rate=0.01))\n",
        "  model.summary()\n",
        "  return model\n",
        "\n",
        "def make_model():\n",
        "  model = models.Sequential()\n",
        "  model.add(layers.LSTM(hidden_units, input_shape=(timesteps, input_dim)))\n",
        "  model.add(layers.Dense(output_dim))\n",
        "  model.compile(loss='mse')\n",
        "  model.summary()\n",
        "  return model\n",
        "# model = make_reference_model()\n",
        "model = make_model()"
      ],
      "metadata": {
        "colab": {
          "base_uri": "https://localhost:8080/"
        },
        "id": "dnPgSvVWVAv5",
        "outputId": "150f3995-ea09-4196-b091-25261fa0b715"
      },
      "execution_count": 4,
      "outputs": [
        {
          "output_type": "stream",
          "name": "stdout",
          "text": [
            "Model: \"sequential\"\n",
            "_________________________________________________________________\n",
            " Layer (type)                Output Shape              Param #   \n",
            "=================================================================\n",
            " lstm (LSTM)                 (None, 50)                10400     \n",
            "                                                                 \n",
            " dense (Dense)               (None, 1)                 51        \n",
            "                                                                 \n",
            "=================================================================\n",
            "Total params: 10,451\n",
            "Trainable params: 10,451\n",
            "Non-trainable params: 0\n",
            "_________________________________________________________________\n"
          ]
        }
      ]
    },
    {
      "cell_type": "code",
      "source": [
        "history = model.fit(train_seq_x, train_seq_y, epochs=100, verbose=0)\n",
        "plt.plot(history.history['loss'])"
      ],
      "metadata": {
        "colab": {
          "base_uri": "https://localhost:8080/",
          "height": 300
        },
        "id": "WXkl82rSLTsS",
        "outputId": "c1783053-6cdb-4cb1-cc06-a5fdaa5ea39d"
      },
      "execution_count": 8,
      "outputs": [
        {
          "output_type": "stream",
          "name": "stdout",
          "text": [
            "25/25 [==============================] - 0s 11ms/step - loss: 0.1097\n"
          ]
        },
        {
          "output_type": "execute_result",
          "data": {
            "text/plain": [
              "[<matplotlib.lines.Line2D at 0x7fa8b2aa5390>]"
            ]
          },
          "metadata": {},
          "execution_count": 8
        },
        {
          "output_type": "display_data",
          "data": {
            "text/plain": [
              "<Figure size 432x288 with 1 Axes>"
            ],
            "image/png": "[encoded data removed]"
          },
          "metadata": {
            "needs_background": "light"
          }
        }
      ]
    },
    {
      "cell_type": "code",
      "source": [
        "predicted_y = model.predict(test_seq_x)"
      ],
      "metadata": {
        "id": "KA4jD-5QnMY9"
      },
      "execution_count": 9,
      "outputs": []
    },
    {
      "cell_type": "code",
      "source": [
        "plt.scatter(np.arange(len(train_y)), train_y)\n",
        "plt.scatter(np.arange(len(train_y), len(train_y) + len(predicted_y)), predicted_y)"
      ],
      "metadata": {
        "colab": {
          "base_uri": "https://localhost:8080/",
          "height": 282
        },
        "id": "tmAl-r_tKanM",
        "outputId": "e8d5a8ef-c742-4a5d-97d2-b20676f78462"
      },
      "execution_count": 10,
      "outputs": [
        {
          "output_type": "execute_result",
          "data": {
            "text/plain": [
              "<matplotlib.collections.PathCollection at 0x7fa8b2a84b10>"
            ]
          },
          "metadata": {},
          "execution_count": 10
        },
        {
          "output_type": "display_data",
          "data": {
            "text/plain": [
              "<Figure size 432x288 with 1 Axes>"
            ],
            "image/png": "[encoded data removed]"
          },
          "metadata": {
            "needs_background": "light"
          }
        }
      ]
    }
  ]
}