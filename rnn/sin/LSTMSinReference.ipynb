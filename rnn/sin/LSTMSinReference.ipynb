{
  "nbformat": 4,
  "nbformat_minor": 0,
  "metadata": {
    "colab": {
      "name": "LSTMSinReference.ipynb",
      "provenance": [],
      "collapsed_sections": [],
      "authorship_tag": "ABX9TyMRVdveh2HnZ54Gs/QXC6rO",
      "include_colab_link": true
    },
    "kernelspec": {
      "name": "python3",
      "display_name": "Python 3"
    },
    "language_info": {
      "name": "python"
    }
  },
  "cells": [
    {
      "cell_type": "markdown",
      "metadata": {
        "id": "view-in-github",
        "colab_type": "text"
      },
      "source": [
        "<a href=\"https://colab.research.google.com/github/zzerross/ai/blob/main/rnn/sin/LSTMSinReference.ipynb\" target=\"_parent\"><img src=\"https://colab.research.google.com/assets/colab-badge.svg\" alt=\"Open In Colab\"/></a>"
      ]
    },
    {
      "cell_type": "code",
      "execution_count": 1,
      "metadata": {
        "id": "UMivGR6uS1IR"
      },
      "outputs": [],
      "source": [
        "# Refer https://m.blog.naver.com/chunjein/222131850058\n",
        "from tensorflow.keras import datasets, layers, models, optimizers\n",
        "import numpy as np\n",
        "import matplotlib as mpl\n",
        "import matplotlib.pyplot as plt\n",
        "\n",
        "mpl.rcParams['lines.markersize'] = 0.5\n",
        "mpl.rcParams['lines.linewidth'] = 0.2"
      ]
    },
    {
      "cell_type": "code",
      "source": [
        "# 1차원 배열의 시계열 데이터로 학습용 배치 파일을 만든다. 입력값 = 1개, 출력값 = 1개\n",
        "# return : xBatch - RNN 입력\n",
        "#          yBatch - RNN 출력\n",
        "#\n",
        "# step = 3 인 경우의 예시\n",
        "# xData = (1, 2, 3, 4, 5, 6, 7, 8, 9, 10)\n",
        "# \n",
        "# xBatch, yBatch는 3차원 텐서로 만든다. (-1, step=3, 1)\n",
        "# xBatch = [[1]] [[2]] [[3]] [[4]] [[5]] [[6]] [[7]] --> 7 x 3 x 1\n",
        "#          [[2]] [[3]] [[4]] [[5]] [[6]] [[7]] [[8]]\n",
        "#          [[3]] [[4]] [[5]] [[6]] [[7]] [[8]] [[9]]\n",
        "#\n",
        "# yBatch =  [4]   [5]   [6]   [7]   [8]   [9]   [10] --> 7 x 1\n",
        "#\n",
        "# ex : xBatch[0] = [[3],[4],[5]],   yBatch[0] = [6]\n",
        "#      3-step 짜리 LSTM에 3,4,5가 입력되면 6이 출력되도록 학습한다.\n",
        "def make_sequence(input, timesteps):\n",
        "  x = list(map(lambda x: input[x:x+timesteps], range(len(input) - timesteps)))\n",
        "  y = input[timesteps:]\n",
        "  return np.reshape(x, (-1, timesteps, 1)), np.reshape(y, (-1, 1))\n",
        "\n",
        "def get_input(start, end, num):\n",
        "  radians = np.linspace(start, end, num)\n",
        "  sin = np.sin(radians) + np.random.random(num)\n",
        "  return radians, sin\n",
        "\n",
        "n = 1000\n",
        "radians = 0.5 * np.arange(n)\n",
        "data = get_input(-10, 10, n)[1]\n",
        "\n",
        "input_dim = 1\n",
        "nOutput = 1\n",
        "timesteps = 20\n",
        "hidden_units = 50\n",
        "\n",
        "train_x, train_y = make_sequence(data[-800:], timesteps)\n",
        "test_x, test_y = make_sequence(data[:-200:], timesteps)"
      ],
      "metadata": {
        "id": "Fkzh5EmiJ--_"
      },
      "execution_count": 2,
      "outputs": []
    },
    {
      "cell_type": "code",
      "source": [
        "def make_reference_model():\n",
        "  xInput = layers.Input(batch_shape=(None, timesteps, 1))\n",
        "  xLstm = layers.LSTM(hidden_units)(xInput)\n",
        "  xOutput = layers.Dense(nOutput)(xLstm)\n",
        "  model = models.Model(xInput, xOutput)\n",
        "  model.compile(loss='mse', optimizer=optimizers.Adam(learning_rate=0.01))\n",
        "  model.summary()\n",
        "  return model\n",
        "  \n",
        "def make_model():\n",
        "  model = models.Sequential()\n",
        "  model.add(layers.Input(batch_shape=(None, timesteps, input_dim)))\n",
        "  model.add(layers.LSTM(hidden_units))\n",
        "  model.add(layers.Dense(1))\n",
        "  model.compile(optimizers.Adam(0.01), loss='mse')\n",
        "  model.summary()\n",
        "  return model\n",
        "# model = make_reference_model()\n",
        "model = make_model()"
      ],
      "metadata": {
        "colab": {
          "base_uri": "https://localhost:8080/"
        },
        "id": "dnPgSvVWVAv5",
        "outputId": "d6e3f22f-2e1f-45c2-afee-b8211405e565"
      },
      "execution_count": 3,
      "outputs": [
        {
          "output_type": "stream",
          "name": "stdout",
          "text": [
            "Model: \"sequential\"\n",
            "_________________________________________________________________\n",
            " Layer (type)                Output Shape              Param #   \n",
            "=================================================================\n",
            " lstm (LSTM)                 (None, 50)                10400     \n",
            "                                                                 \n",
            " dense (Dense)               (None, 1)                 51        \n",
            "                                                                 \n",
            "=================================================================\n",
            "Total params: 10,451\n",
            "Trainable params: 10,451\n",
            "Non-trainable params: 0\n",
            "_________________________________________________________________\n"
          ]
        }
      ]
    },
    {
      "cell_type": "code",
      "source": [
        "history = model.fit(train_x, train_y) # epochs=100, batch_size=100, shuffle=True, verbose=0)\n",
        "plt.plot(history.history['loss'])"
      ],
      "metadata": {
        "colab": {
          "base_uri": "https://localhost:8080/",
          "height": 300
        },
        "id": "WXkl82rSLTsS",
        "outputId": "c0f94509-dfae-4faa-8964-32f2dca8f4c8"
      },
      "execution_count": 4,
      "outputs": [
        {
          "output_type": "stream",
          "name": "stdout",
          "text": [
            "25/25 [==============================] - 2s 10ms/step - loss: 0.2043\n"
          ]
        },
        {
          "output_type": "execute_result",
          "data": {
            "text/plain": [
              "[<matplotlib.lines.Line2D at 0x7fe9eaa0edd0>]"
            ]
          },
          "metadata": {},
          "execution_count": 4
        },
        {
          "output_type": "display_data",
          "data": {
            "text/plain": [
              "<Figure size 432x288 with 1 Axes>"
            ],
            "image/png": "[encoded data removed]"
          },
          "metadata": {
            "needs_background": "light"
          }
        }
      ]
    },
    {
      "cell_type": "code",
      "source": [
        "predicted_y = model.predict(test_x)"
      ],
      "metadata": {
        "id": "KA4jD-5QnMY9"
      },
      "execution_count": 5,
      "outputs": []
    },
    {
      "cell_type": "code",
      "source": [
        "plt.scatter(np.arange(len(train_y)), train_y)\n",
        "plt.scatter(np.arange(len(train_y), len(train_y) + len(predicted_y)), predicted_y)"
      ],
      "metadata": {
        "colab": {
          "base_uri": "https://localhost:8080/",
          "height": 282
        },
        "id": "tmAl-r_tKanM",
        "outputId": "47c95b78-a062-489b-e10b-e2280bf69250"
      },
      "execution_count": 6,
      "outputs": [
        {
          "output_type": "execute_result",
          "data": {
            "text/plain": [
              "<matplotlib.collections.PathCollection at 0x7fe9ea477d10>"
            ]
          },
          "metadata": {},
          "execution_count": 6
        },
        {
          "output_type": "display_data",
          "data": {
            "text/plain": [
              "<Figure size 432x288 with 1 Axes>"
            ],
            "image/png": "[encoded data removed]"
          },
          "metadata": {
            "needs_background": "light"
          }
        }
      ]
    }
  ]
}